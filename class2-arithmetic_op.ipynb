{
 "cells": [
  {
   "cell_type": "code",
   "execution_count": 3,
   "id": "54ec1433",
   "metadata": {},
   "outputs": [
    {
     "name": "stdout",
     "output_type": "stream",
     "text": [
      "Enter a number20\n",
      "Enter second number10\n",
      "Addition of two numbers is 30\n",
      "Subtraction: 10\n",
      "Division: 2.0\n",
      "Multiplication 200\n",
      "Reminder 0\n"
     ]
    }
   ],
   "source": [
    "x=int(input(\"Enter a number \"))\n",
    "y=int(input(\"Enter second number \"))\n",
    "a=x+y\n",
    "s=x-y\n",
    "m=x*y\n",
    "d=x/y\n",
    "r=x%y\n",
    "print(\"Addition of two numbers is\",a)\n",
    "print(\"Subtraction:\",s)\n",
    "print(\"Division:\",d)\n",
    "print(\"Multiplication\",m)\n",
    "print(\"Reminder\",r)\n"
   ]
  },
  {
   "cell_type": "code",
   "execution_count": null,
   "id": "c7c99a40",
   "metadata": {},
   "outputs": [],
   "source": [
    "x=str(input(\"Enter the first name \"))\n",
    "y=str(input(\"Enter the second name \"))\n",
    "print(\"First name is \",x,\"Second name is\",y)\n"
   ]
  },
  {
   "cell_type": "code",
   "execution_count": null,
   "id": "ee72b9a4",
   "metadata": {},
   "outputs": [],
   "source": []
  }
 ],
 "metadata": {
  "kernelspec": {
   "display_name": "Python 3 (ipykernel)",
   "language": "python",
   "name": "python3"
  },
  "language_info": {
   "codemirror_mode": {
    "name": "ipython",
    "version": 3
   },
   "file_extension": ".py",
   "mimetype": "text/x-python",
   "name": "python",
   "nbconvert_exporter": "python",
   "pygments_lexer": "ipython3",
   "version": "3.11.4"
  }
 },
 "nbformat": 4,
 "nbformat_minor": 5
}
