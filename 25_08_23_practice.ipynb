{
 "cells": [
  {
   "cell_type": "code",
   "execution_count": null,
   "id": "b6e3a4d7",
   "metadata": {},
   "outputs": [],
   "source": [
    "lst=[]\n",
    "d=int(input(\"enter no. of elements\"))\n",
    "for i in range (d):\n",
    "    x=int(input(\"Enter element\"))\n",
    "    lst.append(x)\n",
    "    print(lst)\n",
    "print(lst)"
   ]
  },
  {
   "cell_type": "markdown",
   "id": "eadd7dfb",
   "metadata": {},
   "source": []
  },
  {
   "cell_type": "code",
   "execution_count": 8,
   "id": "71a130c3",
   "metadata": {},
   "outputs": [
    {
     "name": "stdout",
     "output_type": "stream",
     "text": [
      "Enter the no. to get the multiplication table4\n",
      "[4]\n",
      "[4, 8]\n",
      "[4, 8, 12]\n",
      "[4, 8, 12, 16]\n",
      "[4, 8, 12, 16, 20]\n",
      "[4, 8, 12, 16, 20, 24]\n",
      "[4, 8, 12, 16, 20, 24, 28]\n",
      "[4, 8, 12, 16, 20, 24, 28, 32]\n",
      "[4, 8, 12, 16, 20, 24, 28, 32, 36]\n",
      "[4, 8, 12, 16, 20, 24, 28, 32, 36, 40]\n"
     ]
    }
   ],
   "source": [
    "lst=[]\n",
    "d=int(input(\"Enter the no. to get the multiplication table\"))\n",
    "for i in range (10):\n",
    "    t=(i+1)*d\n",
    "    print\n",
    "    lst.append(t)\n",
    "    print(lst)\n",
    "#print(lst)"
   ]
  },
  {
   "cell_type": "code",
   "execution_count": 5,
   "id": "00b91cd9",
   "metadata": {},
   "outputs": [
    {
     "name": "stdout",
     "output_type": "stream",
     "text": [
      "4\n"
     ]
    }
   ],
   "source": [
    "lst=[\"CAT\",\"MAT\",\"HEN\",\"MEN\"]\n",
    "lst1=[]\n",
    "x=len(lst)\n",
    "print(x)\n",
    "#print(\"Length of list is\",x)\n",
    "for i in range (x):\n",
    "    lst1.append(i)\n",
    "    if lst1[i]==\"HEN\":\n",
    "        print(lst1)\n",
    "        break"
   ]
  },
  {
   "cell_type": "code",
   "execution_count": null,
   "id": "89df81e0",
   "metadata": {},
   "outputs": [],
   "source": []
  }
 ],
 "metadata": {
  "kernelspec": {
   "display_name": "Python 3 (ipykernel)",
   "language": "python",
   "name": "python3"
  },
  "language_info": {
   "codemirror_mode": {
    "name": "ipython",
    "version": 3
   },
   "file_extension": ".py",
   "mimetype": "text/x-python",
   "name": "python",
   "nbconvert_exporter": "python",
   "pygments_lexer": "ipython3",
   "version": "3.11.4"
  }
 },
 "nbformat": 4,
 "nbformat_minor": 5
}
