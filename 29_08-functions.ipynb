{
 "cells": [
  {
   "cell_type": "code",
   "execution_count": 1,
   "id": "2bfc6d76",
   "metadata": {},
   "outputs": [
    {
     "name": "stdout",
     "output_type": "stream",
     "text": [
      "Result is 1\n",
      "Result is 4\n",
      "Result is 9\n",
      "Result is 16\n"
     ]
    }
   ],
   "source": [
    "def square(num):\n",
    "    return num*num\n",
    "\n",
    "for i in range(1,5):\n",
    "    res=square(i)\n",
    "    print(\"Result is\",res)"
   ]
  },
  {
   "cell_type": "code",
   "execution_count": null,
   "id": "0de671be",
   "metadata": {},
   "outputs": [
    {
     "name": "stdout",
     "output_type": "stream",
     "text": [
      "Enter num1 2\n",
      "Enter num2 4\n",
      "1.add 2.sub 3.div 4.modulus 5.mult 6.square and sum\n",
      "Enter the choice6\n",
      "Square and sum: 20\n"
     ]
    }
   ],
   "source": [
    "def add(n1,n2):\n",
    "    a=n1+n2\n",
    "    print(\"addition:\",a)\n",
    "def sub(n1,n2):\n",
    "    a=n1-n2\n",
    "    print(\"subtraction:\",a) \n",
    "def div(n1,n2):\n",
    "    a=n1/n2\n",
    "    print(\"division:\",a)\n",
    "def mod(n1,n2):\n",
    "    a=n1%n2\n",
    "    print(\"Modulus:\",a)\n",
    "def mul(n1,n2):\n",
    "    a=n1*n2\n",
    "    print(\"Multiplication:\",a)\n",
    "def sq_add(n1,n2):\n",
    "    b=n1*n1\n",
    "    c=n2*n2\n",
    "    a=b+c\n",
    "    print(\"Square and sum:\",a)\n",
    "\n",
    "\n",
    "while(1):\n",
    "    n1=int(input(\"Enter num1 \"))\n",
    "    n2=int(input(\"Enter num2 \"))\n",
    "    print(\"1.add 2.sub 3.div 4.modulus 5.mult 6.square and sum\")\n",
    "    ch=int(input(\"Enter the choice\"))\n",
    "    if(ch==1):\n",
    "        add(n1,n2)\n",
    "    elif(ch==2):\n",
    "        sub(n1,n2)\n",
    "    elif(ch==3):\n",
    "        div(n1,n2)\n",
    "    elif(ch==4):\n",
    "        mod(n1,n2)\n",
    "    elif(ch==5):\n",
    "        mul(n1,n2)\n",
    "    elif(ch==6):\n",
    "        sq_add(n1,n2)\n",
    "        "
   ]
  },
  {
   "cell_type": "code",
   "execution_count": 9,
   "id": "b614caf0",
   "metadata": {},
   "outputs": [
    {
     "name": "stdout",
     "output_type": "stream",
     "text": [
      "1\n",
      "2\n",
      "3\n",
      "4\n",
      "5\n",
      "6\n",
      "7\n",
      "8\n",
      "9\n",
      "10\n"
     ]
    }
   ],
   "source": [
    "#first n natural numbers\n",
    "def natural():\n",
    "    for i in range (0,10):\n",
    "        print(i+1)\n",
    "      \n",
    "\n",
    "natural()"
   ]
  },
  {
   "cell_type": "code",
   "execution_count": 10,
   "id": "af52c076",
   "metadata": {},
   "outputs": [
    {
     "ename": "SyntaxError",
     "evalue": "invalid syntax (1635894894.py, line 3)",
     "output_type": "error",
     "traceback": [
      "\u001b[1;36m  Cell \u001b[1;32mIn[10], line 3\u001b[1;36m\u001b[0m\n\u001b[1;33m    for i range\u001b[0m\n\u001b[1;37m          ^\u001b[0m\n\u001b[1;31mSyntaxError\u001b[0m\u001b[1;31m:\u001b[0m invalid syntax\n"
     ]
    }
   ],
   "source": [
    "#fibonacci series\n",
    "def fibonacci():\n",
    "    for i range "
   ]
  },
  {
   "cell_type": "code",
   "execution_count": 2,
   "id": "e367242c",
   "metadata": {},
   "outputs": [
    {
     "name": "stdout",
     "output_type": "stream",
     "text": [
      "1\n",
      "3\n",
      "5\n",
      "7\n",
      "9\n",
      "11\n",
      "13\n",
      "15\n",
      "17\n",
      "19\n"
     ]
    }
   ],
   "source": [
    "#factorial of first 10 odd numbers\n",
    "def fact():\n",
    "    for i in range(1,20,2):\n",
    "        f=1\n",
    "        f=f*i\n",
    "        print(f)\n",
    "\n",
    "fact()"
   ]
  },
  {
   "cell_type": "code",
   "execution_count": 5,
   "id": "fe44c2c4",
   "metadata": {},
   "outputs": [
    {
     "name": "stdout",
     "output_type": "stream",
     "text": [
      "20\n",
      "18\n",
      "16\n",
      "14\n",
      "12\n",
      "10\n",
      "8\n",
      "6\n",
      "4\n",
      "2\n"
     ]
    }
   ],
   "source": [
    "#first 10 even numbers in reverse order\n",
    "def rev():\n",
    "    for i in range(20,0,-2):\n",
    "        print(i)\n",
    "rev()\n",
    "        "
   ]
  },
  {
   "cell_type": "code",
   "execution_count": 6,
   "id": "a1e0f940",
   "metadata": {},
   "outputs": [],
   "source": [
    "#arrange numbers in half ascending and half descending order\n"
   ]
  },
  {
   "cell_type": "code",
   "execution_count": null,
   "id": "8b6a2298",
   "metadata": {},
   "outputs": [
    {
     "name": "stdout",
     "output_type": "stream",
     "text": [
      "Enter number of elements in an array5\n",
      "Enter the array 3 4 555 62 12\n",
      "3 4 555 62 12\n"
     ]
    }
   ],
   "source": [
    "\n",
    "import numpy as np\n",
    "n=int(input(\"Enter number of elements in an array\"))\n",
    "for i in range (n):\n",
    "    a=np.array(input(\"Enter the array \"))\n",
    "    print(a)"
   ]
  },
  {
   "cell_type": "code",
   "execution_count": 2,
   "id": "2458ae67",
   "metadata": {},
   "outputs": [
    {
     "name": "stdout",
     "output_type": "stream",
     "text": [
      "Enter the number7\n",
      "7 * 1 = 7\n",
      "7 * 2 = 14\n",
      "7 * 3 = 21\n",
      "7 * 4 = 28\n",
      "7 * 5 = 35\n",
      "7 * 6 = 42\n",
      "7 * 7 = 49\n",
      "7 * 8 = 56\n",
      "7 * 9 = 63\n"
     ]
    }
   ],
   "source": [
    "#multiplication table\n",
    "\n",
    "def table(n1):\n",
    "    for i in range(1,10):\n",
    "        p=n1*i\n",
    "        print(n1,\"*\",i,\"=\",p)\n",
    "        \n",
    "n1=int(input(\"Enter the number\"))\n",
    "table(n1)"
   ]
  },
  {
   "cell_type": "code",
   "execution_count": 2,
   "id": "c07d25c2",
   "metadata": {},
   "outputs": [
    {
     "name": "stdout",
     "output_type": "stream",
     "text": [
      "Enter the array 78 87 8 8  6 7 877  99  877\n"
     ]
    },
    {
     "ename": "TypeError",
     "evalue": "only integer scalar arrays can be converted to a scalar index",
     "output_type": "error",
     "traceback": [
      "\u001b[1;31m---------------------------------------------------------------------------\u001b[0m",
      "\u001b[1;31mTypeError\u001b[0m                                 Traceback (most recent call last)",
      "Cell \u001b[1;32mIn[2], line 12\u001b[0m\n\u001b[0;32m      9\u001b[0m     \u001b[38;5;28mprint\u001b[39m(\u001b[38;5;124m\"\u001b[39m\u001b[38;5;124mAverage is\u001b[39m\u001b[38;5;124m\"\u001b[39m,avg)\n\u001b[0;32m     11\u001b[0m arr\u001b[38;5;241m=\u001b[39mnp\u001b[38;5;241m.\u001b[39marray(\u001b[38;5;28minput\u001b[39m(\u001b[38;5;124m\"\u001b[39m\u001b[38;5;124mEnter the array \u001b[39m\u001b[38;5;124m\"\u001b[39m))\n\u001b[1;32m---> 12\u001b[0m avg(arr)\n",
      "Cell \u001b[1;32mIn[2], line 6\u001b[0m, in \u001b[0;36mavg\u001b[1;34m(arr)\u001b[0m\n\u001b[0;32m      4\u001b[0m \u001b[38;5;28;01mdef\u001b[39;00m \u001b[38;5;21mavg\u001b[39m(arr):\n\u001b[0;32m      5\u001b[0m     \u001b[38;5;66;03m#s=0\u001b[39;00m\n\u001b[1;32m----> 6\u001b[0m     \u001b[38;5;28;01mfor\u001b[39;00m i \u001b[38;5;129;01min\u001b[39;00m \u001b[38;5;28mrange\u001b[39m (arr):\n\u001b[0;32m      7\u001b[0m         s\u001b[38;5;241m=\u001b[39ms\u001b[38;5;241m+\u001b[39mi\n\u001b[0;32m      8\u001b[0m         avg\u001b[38;5;241m=\u001b[39m\u001b[38;5;28mfloat\u001b[39m(s\u001b[38;5;241m/\u001b[39m\u001b[38;5;241m10\u001b[39m)\n",
      "\u001b[1;31mTypeError\u001b[0m: only integer scalar arrays can be converted to a scalar index"
     ]
    }
   ],
   "source": [
    "#get average of input numebers\n",
    "\n",
    "import numpy as np\n",
    "def avg(arr):\n",
    "    #s=0\n",
    "    for i in range (arr):\n",
    "        s=s+i\n",
    "        avg=float(s/10)\n",
    "    print(\"Average is\",avg)\n",
    "\n",
    "arr=np.array(input(\"Enter the array \"))\n",
    "avg(arr)"
   ]
  },
  {
   "cell_type": "code",
   "execution_count": 12,
   "id": "6044dbbf",
   "metadata": {},
   "outputs": [
    {
     "name": "stdout",
     "output_type": "stream",
     "text": [
      "121\n",
      "143\n",
      "165\n",
      "187\n",
      "209\n",
      "231\n",
      "253\n",
      "275\n",
      "297\n",
      "319\n",
      "341\n",
      "363\n",
      "385\n",
      "407\n",
      "429\n",
      "451\n",
      "473\n",
      "495\n"
     ]
    }
   ],
   "source": [
    "#display numbers divisible by 11 but not by 2 between 100 and 500\n",
    "\n",
    "def div_11_n2():\n",
    "    for i in range (100,500):\n",
    "        if((i%2!=0) & (i%11==0)):\n",
    "           print(i)\n",
    "        \n",
    "div_11_n2()"
   ]
  },
  {
   "cell_type": "code",
   "execution_count": null,
   "id": "ef4d64e5",
   "metadata": {},
   "outputs": [
    {
     "name": "stdout",
     "output_type": "stream",
     "text": [
      "Enter the number 6\n",
      "[6]\n",
      "Enter the number 90\n",
      "[6, 90]\n",
      "Enter the number 0\n",
      "[6, 90, 0]\n",
      "Enter the number 8\n",
      "[6, 90, 0, 8]\n"
     ]
    }
   ],
   "source": [
    "#until user enters 00. display factorial of entered numbers\n",
    "import numpy as np\n",
    "lst1=[]\n",
    "while(1):\n",
    "    \n",
    "    n=int(input(\"Enter the number \"))\n",
    "    if(n=='00'):\n",
    "        break\n",
    "    else:\n",
    "        lst1.append(n)\n",
    "        print(lst1)\n"
   ]
  },
  {
   "cell_type": "code",
   "execution_count": null,
   "id": "8a4bff35",
   "metadata": {},
   "outputs": [],
   "source": []
  }
 ],
 "metadata": {
  "kernelspec": {
   "display_name": "Python 3 (ipykernel)",
   "language": "python",
   "name": "python3"
  },
  "language_info": {
   "codemirror_mode": {
    "name": "ipython",
    "version": 3
   },
   "file_extension": ".py",
   "mimetype": "text/x-python",
   "name": "python",
   "nbconvert_exporter": "python",
   "pygments_lexer": "ipython3",
   "version": "3.11.4"
  }
 },
 "nbformat": 4,
 "nbformat_minor": 5
}
